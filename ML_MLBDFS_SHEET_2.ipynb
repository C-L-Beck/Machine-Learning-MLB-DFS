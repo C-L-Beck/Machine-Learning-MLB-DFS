{
 "cells": [
  {
   "cell_type": "code",
   "execution_count": 1,
   "metadata": {},
   "outputs": [],
   "source": [
    "import pandas as pd\n",
    "from IPython.display import display"
   ]
  },
  {
   "cell_type": "code",
   "execution_count": 2,
   "metadata": {},
   "outputs": [],
   "source": [
    "md1 = '05_09'\n",
    "\n",
    "md2 = '05_13'\n",
    "\n",
    "md3 = '05_14'\n",
    "\n",
    "md4 = '05_15'\n",
    "\n",
    "# md5 = '05_07'\n",
    "\n",
    "# md6 = '05_08'\n",
    "\n",
    "# md7 = '05_09'\n",
    "\n",
    "\n",
    "h1 = pd.read_excel(\"C:\\\\DATAMLBDFS\\\\ML\\\\\" + md1 + \"_MLB_C.xlsx\", sheet_name='Pitchers')\n",
    "b1 = pd.read_excel(\"C:\\\\DATAMLBDFS\\\\ML\\\\\" + md1 + \"_MLB_C.xlsx\", sheet_name='Batters')\n",
    "\n",
    "h2 = pd.read_excel(\"C:\\\\DATAMLBDFS\\\\ML\\\\\" + md2 + \"_MLB_C.xlsx\", sheet_name='Pitchers')\n",
    "b2 = pd.read_excel(\"C:\\\\DATAMLBDFS\\\\ML\\\\\" + md2 + \"_MLB_C.xlsx\", sheet_name='Batters')\n",
    "\n",
    "h3 = pd.read_excel(\"C:\\\\DATAMLBDFS\\\\ML\\\\\" + md3 + \"_MLB_C.xlsx\", sheet_name='Pitchers')\n",
    "b3 = pd.read_excel(\"C:\\\\DATAMLBDFS\\\\ML\\\\\" + md3 + \"_MLB_C.xlsx\", sheet_name='Batters')\n",
    "\n",
    "h4 = pd.read_excel(\"C:\\\\DATAMLBDFS\\\\ML\\\\\" + md4 + \"_MLB_C.xlsx\", sheet_name='Pitchers')\n",
    "b4 = pd.read_excel(\"C:\\\\DATAMLBDFS\\\\ML\\\\\" + md4 + \"_MLB_C.xlsx\", sheet_name='Batters')\n",
    "\n",
    "# h5 = pd.read_excel(\"C:\\\\DATAMLBDFS\\\\ML\\\\\" + md5 + \"_MLB_C.xlsx\", sheet_name='Pitchers')\n",
    "# b5 = pd.read_excel(\"C:\\\\DATAMLBDFS\\\\ML\\\\\" + md5 + \"_MLB_C.xlsx\", sheet_name='Batters')\n",
    "\n",
    "# h6 = pd.read_excel(\"C:\\\\DATAMLBDFS\\\\ML\\\\\" + md6 + \"_MLB_C.xlsx\", sheet_name='Pitchers')\n",
    "# b6 = pd.read_excel(\"C:\\\\DATAMLBDFS\\\\ML\\\\\" + md6 + \"_MLB_C.xlsx\", sheet_name='Batters')\n",
    "\n",
    "# h7 = pd.read_excel(\"C:\\\\DATAMLBDFS\\\\ML\\\\\" + md7 + \"_MLB_C.xlsx\", sheet_name='Pitchers')\n",
    "# b7 = pd.read_excel(\"C:\\\\DATAMLBDFS\\\\ML\\\\\" + md7 + \"_MLB_C.xlsx\", sheet_name='Batters')\n",
    "\n",
    "path = \"C:\\\\DATAMLBDFS\\\\ML\\\\MLB_Model_Complete.xlsx\""
   ]
  },
  {
   "cell_type": "code",
   "execution_count": 3,
   "metadata": {},
   "outputs": [],
   "source": [
    "hitters = [h1,h2,h3,h4]\n",
    "batters = [b1,b2,b3,b4]\n",
    "\n",
    "h_df = pd.concat(hitters)\n",
    "\n",
    "b_df = pd.concat(batters)"
   ]
  },
  {
   "cell_type": "code",
   "execution_count": 4,
   "metadata": {},
   "outputs": [],
   "source": [
    "from pyexcelerate import Workbook\n",
    "wb = Workbook()\n",
    "\n",
    "pitchvalues = [h_df.columns]+list(h_df.values)\n",
    "\n",
    "batvalues = [b_df.columns]+list(b_df.values)\n",
    "\n",
    "wb.new_sheet('Pitchers', data=pitchvalues)\n",
    "\n",
    "wb.new_sheet('Batters', data=batvalues)\n",
    "\n",
    "wb.save(path)"
   ]
  },
  {
   "cell_type": "code",
   "execution_count": null,
   "metadata": {},
   "outputs": [],
   "source": []
  }
 ],
 "metadata": {
  "kernelspec": {
   "display_name": "Python 2",
   "language": "python",
   "name": "python2"
  },
  "language_info": {
   "codemirror_mode": {
    "name": "ipython",
    "version": 2
   },
   "file_extension": ".py",
   "mimetype": "text/x-python",
   "name": "python",
   "nbconvert_exporter": "python",
   "pygments_lexer": "ipython2",
   "version": "2.7.13"
  }
 },
 "nbformat": 4,
 "nbformat_minor": 2
}
